{
 "cells": [
  {
   "cell_type": "code",
   "execution_count": 71,
   "metadata": {},
   "outputs": [
    {
     "name": "stdout",
     "output_type": "stream",
     "text": [
      "Requirement already satisfied: openpyxl in /Users/atharvchandratre/.pyenv/versions/3.9.4/lib/python3.9/site-packages (3.0.7)\n",
      "Requirement already satisfied: datetime in /Users/atharvchandratre/.pyenv/versions/3.9.4/lib/python3.9/site-packages (4.3)\n",
      "Requirement already satisfied: pandas in /Users/atharvchandratre/.pyenv/versions/3.9.4/lib/python3.9/site-packages (1.3.1)\n",
      "Requirement already satisfied: et-xmlfile in /Users/atharvchandratre/.pyenv/versions/3.9.4/lib/python3.9/site-packages (from openpyxl) (1.1.0)\n",
      "Requirement already satisfied: zope.interface in /Users/atharvchandratre/.pyenv/versions/3.9.4/lib/python3.9/site-packages (from datetime) (5.4.0)\n",
      "Requirement already satisfied: pytz in /Users/atharvchandratre/.pyenv/versions/3.9.4/lib/python3.9/site-packages (from datetime) (2021.1)\n",
      "Requirement already satisfied: python-dateutil>=2.7.3 in /Users/atharvchandratre/.pyenv/versions/3.9.4/lib/python3.9/site-packages (from pandas) (2.8.2)\n",
      "Requirement already satisfied: numpy>=1.17.3 in /Users/atharvchandratre/.pyenv/versions/3.9.4/lib/python3.9/site-packages (from pandas) (1.21.1)\n",
      "Requirement already satisfied: six>=1.5 in /Users/atharvchandratre/.pyenv/versions/3.9.4/lib/python3.9/site-packages (from python-dateutil>=2.7.3->pandas) (1.16.0)\n",
      "Requirement already satisfied: setuptools in /Users/atharvchandratre/.pyenv/versions/3.9.4/lib/python3.9/site-packages (from zope.interface->datetime) (49.2.1)\n"
     ]
    }
   ],
   "source": [
    "! pip install openpyxl datetime pandas"
   ]
  },
  {
   "cell_type": "code",
   "execution_count": 63,
   "metadata": {},
   "outputs": [],
   "source": [
    "import os\n",
    "from openpyxl import Workbook\n",
    "from datetime import datetime\n",
    "import pandas as pd"
   ]
  },
  {
   "cell_type": "code",
   "execution_count": 64,
   "metadata": {},
   "outputs": [
    {
     "name": "stdout",
     "output_type": "stream",
     "text": [
      "Log File found, beginning analysis...\n"
     ]
    }
   ],
   "source": [
    "user_input = 'prism_n1_le5_d202.log' # Enter path to log here\n",
    "assert os.path.exists(user_input), \"I did not find the file at \"+str(user_input)\n",
    "f = open(user_input,'r')\n",
    "print(\"Log File found, beginning analysis...\")\n",
    "f.close()"
   ]
  },
  {
   "cell_type": "code",
   "execution_count": 65,
   "metadata": {},
   "outputs": [],
   "source": [
    "ProposerBlockMined = 'ProposerBlockMined'\n",
    "ValidProposerBlockDownloaded = 'ValidProposerBlockDownloaded'\n",
    "ProposerBlockConfirmed = 'ProposerBlockConfirmed'\n",
    "ProposerBlockRolledBack = 'ProposerBlockRolledBack'\n",
    "epoch = datetime.utcfromtimestamp(0)\n",
    "\n",
    "hashToNumber = {}\n",
    "hashToCreationTimestamp = {}\n",
    "hashToCreationEvent = {}\n",
    "hashToConfirmationTimestamp = {}\n",
    "hashToRollbackTimestamp = {}"
   ]
  },
  {
   "cell_type": "code",
   "execution_count": 66,
   "metadata": {},
   "outputs": [],
   "source": [
    "def getTimestamp(timestr):\n",
    "    dateTimeObj = datetime.strptime(timestr, '%Y-%m-%d %H:%M:%S,%f')\n",
    "    delta = dateTimeObj - epoch\n",
    "    return delta.total_seconds()*1000"
   ]
  },
  {
   "cell_type": "code",
   "execution_count": 67,
   "metadata": {},
   "outputs": [],
   "source": [
    "with open(user_input, 'r') as f:\n",
    "    for line in f:\n",
    "        if \"BENCHMARKING:\" not in line:\n",
    "            continue\n",
    "        benchmarkSubstrings = line[line.find(\"BENCHMARKING\"):-1].split(':')\n",
    "        dateTimeString = line.split('[')[0][:-1]\n",
    "        timestamp = getTimestamp(dateTimeString)\n",
    "        event = benchmarkSubstrings[1]\n",
    "        blockNumber = benchmarkSubstrings[3]\n",
    "        blockHash = benchmarkSubstrings[-1][1:-1]\n",
    "        hashToNumber[blockHash] = blockNumber\n",
    "        if event == ProposerBlockMined or event == ValidProposerBlockDownloaded:\n",
    "            hashToCreationEvent[blockHash] = event\n",
    "            hashToCreationTimestamp[blockHash] = timestamp\n",
    "        if event == ProposerBlockConfirmed:\n",
    "            hashToConfirmationTimestamp[blockHash] = timestamp\n",
    "        if event == ProposerBlockRolledBack:\n",
    "            hashToRollbackTimestamp[blockHash] = timestamp\n",
    "\n",
    "f.close()"
   ]
  },
  {
   "cell_type": "code",
   "execution_count": 68,
   "metadata": {},
   "outputs": [
    {
     "data": {
      "text/html": [
       "<div>\n",
       "<style scoped>\n",
       "    .dataframe tbody tr th:only-of-type {\n",
       "        vertical-align: middle;\n",
       "    }\n",
       "\n",
       "    .dataframe tbody tr th {\n",
       "        vertical-align: top;\n",
       "    }\n",
       "\n",
       "    .dataframe thead th {\n",
       "        text-align: right;\n",
       "    }\n",
       "</style>\n",
       "<table border=\"1\" class=\"dataframe\">\n",
       "  <thead>\n",
       "    <tr style=\"text-align: right;\">\n",
       "      <th></th>\n",
       "      <th>Block Hash</th>\n",
       "      <th>Block Number</th>\n",
       "      <th>Timestamp - Creation</th>\n",
       "      <th>Event</th>\n",
       "      <th>Timestamp - Confirmation</th>\n",
       "      <th>Timestamp - Rollback</th>\n",
       "    </tr>\n",
       "  </thead>\n",
       "  <tbody>\n",
       "    <tr>\n",
       "      <th>0</th>\n",
       "      <td>0x9398c82a4801990554f2738829276544af9cd54ba632...</td>\n",
       "      <td>1</td>\n",
       "      <td>1.638971e+12</td>\n",
       "      <td>ProposerBlockMined</td>\n",
       "      <td>1638971191615.0</td>\n",
       "      <td></td>\n",
       "    </tr>\n",
       "    <tr>\n",
       "      <th>1</th>\n",
       "      <td>0xabd4128d8fd7cb53333cbc354952d677fd4a83ed03ea...</td>\n",
       "      <td>2</td>\n",
       "      <td>1.638971e+12</td>\n",
       "      <td>ProposerBlockMined</td>\n",
       "      <td>1638971216061.0</td>\n",
       "      <td></td>\n",
       "    </tr>\n",
       "    <tr>\n",
       "      <th>2</th>\n",
       "      <td>0x38d416bf624b68fe0509db3b1a64b6e766882737cc73...</td>\n",
       "      <td>3</td>\n",
       "      <td>1.638971e+12</td>\n",
       "      <td>ProposerBlockMined</td>\n",
       "      <td>1638971272154.0</td>\n",
       "      <td></td>\n",
       "    </tr>\n",
       "    <tr>\n",
       "      <th>3</th>\n",
       "      <td>0x74a3dc110de371b17f8c14f66fc401b8d10cba1a910b...</td>\n",
       "      <td>4</td>\n",
       "      <td>1.638971e+12</td>\n",
       "      <td>ProposerBlockMined</td>\n",
       "      <td>1638971379634.0</td>\n",
       "      <td></td>\n",
       "    </tr>\n",
       "    <tr>\n",
       "      <th>4</th>\n",
       "      <td>0xa60d7824b6e3af7e0d04c4d3ed2c8818dc69385e9fc7...</td>\n",
       "      <td>5</td>\n",
       "      <td>1.638971e+12</td>\n",
       "      <td>ProposerBlockMined</td>\n",
       "      <td>1638971402024.0</td>\n",
       "      <td></td>\n",
       "    </tr>\n",
       "    <tr>\n",
       "      <th>...</th>\n",
       "      <td>...</td>\n",
       "      <td>...</td>\n",
       "      <td>...</td>\n",
       "      <td>...</td>\n",
       "      <td>...</td>\n",
       "      <td>...</td>\n",
       "    </tr>\n",
       "    <tr>\n",
       "      <th>108</th>\n",
       "      <td>0x218faac1ab4e7001e1ba23242a0b418878e3adba1ab3...</td>\n",
       "      <td>109</td>\n",
       "      <td>1.638975e+12</td>\n",
       "      <td>ProposerBlockMined</td>\n",
       "      <td></td>\n",
       "      <td></td>\n",
       "    </tr>\n",
       "    <tr>\n",
       "      <th>109</th>\n",
       "      <td>0x89ffef551b64cb0ad1c7b0e82e2ddfb7c16b830363ec...</td>\n",
       "      <td>110</td>\n",
       "      <td>1.638975e+12</td>\n",
       "      <td>ProposerBlockMined</td>\n",
       "      <td></td>\n",
       "      <td></td>\n",
       "    </tr>\n",
       "    <tr>\n",
       "      <th>110</th>\n",
       "      <td>0x409cde7fa2cfce31527855c8c27c22719775b9afcd7b...</td>\n",
       "      <td>111</td>\n",
       "      <td>1.638975e+12</td>\n",
       "      <td>ProposerBlockMined</td>\n",
       "      <td></td>\n",
       "      <td></td>\n",
       "    </tr>\n",
       "    <tr>\n",
       "      <th>111</th>\n",
       "      <td>0x7e0e572d04199ca8c38c88837602de4a46dfcbdfd7ea...</td>\n",
       "      <td>112</td>\n",
       "      <td>1.638975e+12</td>\n",
       "      <td>ProposerBlockMined</td>\n",
       "      <td></td>\n",
       "      <td></td>\n",
       "    </tr>\n",
       "    <tr>\n",
       "      <th>112</th>\n",
       "      <td>0x472129ee437fd3682f3b349d97e43ce2c2fb446898ed...</td>\n",
       "      <td>113</td>\n",
       "      <td>1.638975e+12</td>\n",
       "      <td>ProposerBlockMined</td>\n",
       "      <td></td>\n",
       "      <td></td>\n",
       "    </tr>\n",
       "  </tbody>\n",
       "</table>\n",
       "<p>113 rows × 6 columns</p>\n",
       "</div>"
      ],
      "text/plain": [
       "                                            Block Hash Block Number  \\\n",
       "0    0x9398c82a4801990554f2738829276544af9cd54ba632...            1   \n",
       "1    0xabd4128d8fd7cb53333cbc354952d677fd4a83ed03ea...            2   \n",
       "2    0x38d416bf624b68fe0509db3b1a64b6e766882737cc73...            3   \n",
       "3    0x74a3dc110de371b17f8c14f66fc401b8d10cba1a910b...            4   \n",
       "4    0xa60d7824b6e3af7e0d04c4d3ed2c8818dc69385e9fc7...            5   \n",
       "..                                                 ...          ...   \n",
       "108  0x218faac1ab4e7001e1ba23242a0b418878e3adba1ab3...          109   \n",
       "109  0x89ffef551b64cb0ad1c7b0e82e2ddfb7c16b830363ec...          110   \n",
       "110  0x409cde7fa2cfce31527855c8c27c22719775b9afcd7b...          111   \n",
       "111  0x7e0e572d04199ca8c38c88837602de4a46dfcbdfd7ea...          112   \n",
       "112  0x472129ee437fd3682f3b349d97e43ce2c2fb446898ed...          113   \n",
       "\n",
       "     Timestamp - Creation               Event Timestamp - Confirmation  \\\n",
       "0            1.638971e+12  ProposerBlockMined          1638971191615.0   \n",
       "1            1.638971e+12  ProposerBlockMined          1638971216061.0   \n",
       "2            1.638971e+12  ProposerBlockMined          1638971272154.0   \n",
       "3            1.638971e+12  ProposerBlockMined          1638971379634.0   \n",
       "4            1.638971e+12  ProposerBlockMined          1638971402024.0   \n",
       "..                    ...                 ...                      ...   \n",
       "108          1.638975e+12  ProposerBlockMined                            \n",
       "109          1.638975e+12  ProposerBlockMined                            \n",
       "110          1.638975e+12  ProposerBlockMined                            \n",
       "111          1.638975e+12  ProposerBlockMined                            \n",
       "112          1.638975e+12  ProposerBlockMined                            \n",
       "\n",
       "    Timestamp - Rollback  \n",
       "0                         \n",
       "1                         \n",
       "2                         \n",
       "3                         \n",
       "4                         \n",
       "..                   ...  \n",
       "108                       \n",
       "109                       \n",
       "110                       \n",
       "111                       \n",
       "112                       \n",
       "\n",
       "[113 rows x 6 columns]"
      ]
     },
     "execution_count": 68,
     "metadata": {},
     "output_type": "execute_result"
    }
   ],
   "source": [
    "df = pd.DataFrame(columns=['Block Hash','Block Number','Timestamp - Creation','Event','Timestamp - Confirmation','Timestamp - Rollback'])\n",
    "\n",
    "for index,key in enumerate(hashToNumber.keys()):\n",
    "    df.loc[index] = [key,\n",
    "        int(hashToNumber.get(key,'')),\n",
    "        hashToCreationTimestamp.get(key,''),\n",
    "        hashToCreationEvent.get(key,''),\n",
    "        hashToConfirmationTimestamp.get(key,''),\n",
    "        hashToRollbackTimestamp.get(key,'')]\n",
    "\n",
    "df.sort_values('Block Number')"
   ]
  },
  {
   "cell_type": "code",
   "execution_count": 69,
   "metadata": {},
   "outputs": [],
   "source": [
    "df['Latency'] = df[df['Timestamp - Confirmation']!='']['Timestamp - Confirmation']-df[df['Timestamp - Confirmation']!='']['Timestamp - Creation']\n",
    "df['Mining Time'] = df['Timestamp - Creation'].diff()\n",
    "df['Confirmation Depth']=df['Latency']/df['Mining Time']"
   ]
  },
  {
   "cell_type": "code",
   "execution_count": 70,
   "metadata": {},
   "outputs": [
    {
     "name": "stdout",
     "output_type": "stream",
     "text": [
      "Mean Latency = 519466.35294117645\n",
      "Median Latency = 516722.0\n",
      "Mean Mining Time = 39663.25892857143\n",
      "Median Mining Time = 29477.5\n",
      "Mean Confirmation Depth = 43.08887581311689\n",
      "Median Confirmation Depth = 19.20429331959471\n"
     ]
    }
   ],
   "source": [
    "print(\"Mean Latency =\",df['Latency'].dropna().mean())\n",
    "print(\"Median Latency =\",df['Latency'].dropna().median())\n",
    "print(\"Mean Mining Time =\",df['Mining Time'].dropna().mean())\n",
    "print(\"Median Mining Time =\",df['Mining Time'].dropna().median())\n",
    "print(\"Mean Confirmation Depth =\",df['Confirmation Depth'].dropna().mean())\n",
    "print(\"Median Confirmation Depth =\",df['Confirmation Depth'].dropna().median())"
   ]
  }
 ],
 "metadata": {
  "interpreter": {
   "hash": "cf848db52ef32cc176ed1af497719705d0e2fe62659246413983ac6a5ce0226f"
  },
  "kernelspec": {
   "display_name": "Python 3.9.4 64-bit ('3.9.4': pyenv)",
   "language": "python",
   "name": "python3"
  },
  "language_info": {
   "codemirror_mode": {
    "name": "ipython",
    "version": 3
   },
   "file_extension": ".py",
   "mimetype": "text/x-python",
   "name": "python",
   "nbconvert_exporter": "python",
   "pygments_lexer": "ipython3",
   "version": "3.9.4"
  },
  "orig_nbformat": 4
 },
 "nbformat": 4,
 "nbformat_minor": 2
}
