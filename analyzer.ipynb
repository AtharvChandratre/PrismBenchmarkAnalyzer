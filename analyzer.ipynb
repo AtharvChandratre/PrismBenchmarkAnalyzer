{
 "cells": [
  {
   "cell_type": "code",
   "execution_count": 7,
   "metadata": {},
   "outputs": [
    {
     "name": "stdout",
     "output_type": "stream",
     "text": [
      "Requirement already satisfied: openpyxl in /Users/atharvchandratre/.pyenv/versions/3.9.4/lib/python3.9/site-packages (3.0.7)\n",
      "Requirement already satisfied: datetime in /Users/atharvchandratre/.pyenv/versions/3.9.4/lib/python3.9/site-packages (4.3)\n",
      "Requirement already satisfied: pandas in /Users/atharvchandratre/.pyenv/versions/3.9.4/lib/python3.9/site-packages (1.3.1)\n",
      "Requirement already satisfied: et-xmlfile in /Users/atharvchandratre/.pyenv/versions/3.9.4/lib/python3.9/site-packages (from openpyxl) (1.1.0)\n",
      "Requirement already satisfied: zope.interface in /Users/atharvchandratre/.pyenv/versions/3.9.4/lib/python3.9/site-packages (from datetime) (5.4.0)\n",
      "Requirement already satisfied: pytz in /Users/atharvchandratre/.pyenv/versions/3.9.4/lib/python3.9/site-packages (from datetime) (2021.1)\n",
      "Requirement already satisfied: python-dateutil>=2.7.3 in /Users/atharvchandratre/.pyenv/versions/3.9.4/lib/python3.9/site-packages (from pandas) (2.8.2)\n",
      "Requirement already satisfied: numpy>=1.17.3 in /Users/atharvchandratre/.pyenv/versions/3.9.4/lib/python3.9/site-packages (from pandas) (1.21.1)\n",
      "Requirement already satisfied: six>=1.5 in /Users/atharvchandratre/.pyenv/versions/3.9.4/lib/python3.9/site-packages (from python-dateutil>=2.7.3->pandas) (1.16.0)\n",
      "Requirement already satisfied: setuptools in /Users/atharvchandratre/.pyenv/versions/3.9.4/lib/python3.9/site-packages (from zope.interface->datetime) (49.2.1)\n"
     ]
    }
   ],
   "source": [
    "! pip install openpyxl datetime pandas"
   ]
  },
  {
   "cell_type": "code",
   "execution_count": 8,
   "metadata": {},
   "outputs": [],
   "source": [
    "import os\n",
    "from openpyxl import Workbook\n",
    "from datetime import datetime\n",
    "import pandas as pd"
   ]
  },
  {
   "cell_type": "code",
   "execution_count": 9,
   "metadata": {},
   "outputs": [
    {
     "name": "stdout",
     "output_type": "stream",
     "text": [
      "Log File found, beginning analysis...\n"
     ]
    }
   ],
   "source": [
    "user_input = 'prism_n1_le23_d202.log' # Enter path to log here\n",
    "assert os.path.exists(user_input), \"I did not find the file at \"+str(user_input)\n",
    "f = open(user_input,'r')\n",
    "print(\"Log File found, beginning analysis...\")\n",
    "f.close()"
   ]
  },
  {
   "cell_type": "code",
   "execution_count": 10,
   "metadata": {},
   "outputs": [],
   "source": [
    "ProposerBlockMined = 'ProposerBlockMined'\n",
    "ValidProposerBlockDownloaded = 'ValidProposerBlockDownloaded'\n",
    "ProposerBlockConfirmed = 'ProposerBlockConfirmed'\n",
    "ProposerBlockRolledBack = 'ProposerBlockRolledBack'\n",
    "epoch = datetime.utcfromtimestamp(0)\n",
    "\n",
    "hashToNumber = {}\n",
    "hashToCreationTimestamp = {}\n",
    "hashToCreationEvent = {}\n",
    "hashToConfirmationTimestamp = {}\n",
    "hashToRollbackTimestamp = {}"
   ]
  },
  {
   "cell_type": "code",
   "execution_count": 11,
   "metadata": {},
   "outputs": [],
   "source": [
    "def getTimestamp(timestr):\n",
    "    dateTimeObj = datetime.strptime(timestr, '%Y-%m-%d %H:%M:%S,%f')\n",
    "    delta = dateTimeObj - epoch\n",
    "    return delta.total_seconds()*1000"
   ]
  },
  {
   "cell_type": "code",
   "execution_count": 12,
   "metadata": {},
   "outputs": [],
   "source": [
    "with open(user_input, 'r') as f:\n",
    "    for line in f:\n",
    "        if \"BENCHMARKING:\" not in line:\n",
    "            continue\n",
    "        benchmarkSubstrings = line[line.find(\"BENCHMARKING\"):-1].split(':')\n",
    "        dateTimeString = line.split('[')[0][:-1]\n",
    "        timestamp = getTimestamp(dateTimeString)\n",
    "        event = benchmarkSubstrings[1]\n",
    "        blockNumber = benchmarkSubstrings[3]\n",
    "        blockHash = benchmarkSubstrings[-1][1:-1]\n",
    "        if event == ProposerBlockMined or event == ValidProposerBlockDownloaded:\n",
    "            if hashToCreationTimestamp.get(blockHash)!=None:\n",
    "                continue\n",
    "            hashToNumber[blockHash] = blockNumber\n",
    "            hashToCreationEvent[blockHash] = event\n",
    "            hashToCreationTimestamp[blockHash] = timestamp\n",
    "        if event == ProposerBlockConfirmed:\n",
    "            if hashToConfirmationTimestamp.get(blockHash)!=None:\n",
    "                continue\n",
    "            hashToNumber[blockHash] = blockNumber\n",
    "            hashToConfirmationTimestamp[blockHash] = timestamp\n",
    "        if event == ProposerBlockRolledBack:\n",
    "            if hashToRollbackTimestamp.get(blockHash)!=None:\n",
    "                continue\n",
    "            hashToNumber[blockHash] = blockNumber\n",
    "            hashToRollbackTimestamp[blockHash] = timestamp\n",
    "\n",
    "f.close()"
   ]
  },
  {
   "cell_type": "code",
   "execution_count": 13,
   "metadata": {},
   "outputs": [
    {
     "data": {
      "text/html": [
       "<div>\n",
       "<style scoped>\n",
       "    .dataframe tbody tr th:only-of-type {\n",
       "        vertical-align: middle;\n",
       "    }\n",
       "\n",
       "    .dataframe tbody tr th {\n",
       "        vertical-align: top;\n",
       "    }\n",
       "\n",
       "    .dataframe thead th {\n",
       "        text-align: right;\n",
       "    }\n",
       "</style>\n",
       "<table border=\"1\" class=\"dataframe\">\n",
       "  <thead>\n",
       "    <tr style=\"text-align: right;\">\n",
       "      <th></th>\n",
       "      <th>Block Hash</th>\n",
       "      <th>Block Number</th>\n",
       "      <th>Timestamp - Creation</th>\n",
       "      <th>Event</th>\n",
       "      <th>Timestamp - Confirmation</th>\n",
       "      <th>Timestamp - Rollback</th>\n",
       "    </tr>\n",
       "  </thead>\n",
       "  <tbody>\n",
       "    <tr>\n",
       "      <th>0</th>\n",
       "      <td>0x9579d55926e3391f152be728b158f5f494e251e017e6...</td>\n",
       "      <td>1</td>\n",
       "      <td>1.638987e+12</td>\n",
       "      <td>ProposerBlockMined</td>\n",
       "      <td>1638990776118.0</td>\n",
       "      <td></td>\n",
       "    </tr>\n",
       "    <tr>\n",
       "      <th>1</th>\n",
       "      <td>0xae693736d5aa7524db8185743f3b86e82fac8c94bb66...</td>\n",
       "      <td>2</td>\n",
       "      <td>1.638987e+12</td>\n",
       "      <td>ProposerBlockMined</td>\n",
       "      <td>1638990842611.0</td>\n",
       "      <td></td>\n",
       "    </tr>\n",
       "    <tr>\n",
       "      <th>2</th>\n",
       "      <td>0xc82029a534fd6076b8097b2bfdbe45a55931e0c944e9...</td>\n",
       "      <td>3</td>\n",
       "      <td>1.638988e+12</td>\n",
       "      <td>ProposerBlockMined</td>\n",
       "      <td>1638990954505.0</td>\n",
       "      <td></td>\n",
       "    </tr>\n",
       "    <tr>\n",
       "      <th>3</th>\n",
       "      <td>0xed3182fbf3f02b63dc5660b0dd13aa9524f9da25f080...</td>\n",
       "      <td>4</td>\n",
       "      <td>1.638988e+12</td>\n",
       "      <td>ProposerBlockMined</td>\n",
       "      <td>1638990954512.0</td>\n",
       "      <td></td>\n",
       "    </tr>\n",
       "    <tr>\n",
       "      <th>4</th>\n",
       "      <td>0x415863ec96f522060562e311c6a14bf4d3cbe7848c0f...</td>\n",
       "      <td>5</td>\n",
       "      <td>1.638988e+12</td>\n",
       "      <td>ProposerBlockMined</td>\n",
       "      <td>1638990954519.0</td>\n",
       "      <td></td>\n",
       "    </tr>\n",
       "    <tr>\n",
       "      <th>...</th>\n",
       "      <td>...</td>\n",
       "      <td>...</td>\n",
       "      <td>...</td>\n",
       "      <td>...</td>\n",
       "      <td>...</td>\n",
       "      <td>...</td>\n",
       "    </tr>\n",
       "    <tr>\n",
       "      <th>162</th>\n",
       "      <td>0xcd2f2e9f56e7a7e1ebb6c66041f5c8925aadfcf969e1...</td>\n",
       "      <td>163</td>\n",
       "      <td>1.638995e+12</td>\n",
       "      <td>ProposerBlockMined</td>\n",
       "      <td></td>\n",
       "      <td></td>\n",
       "    </tr>\n",
       "    <tr>\n",
       "      <th>163</th>\n",
       "      <td>0x78103819104558f307e432a94afd033afb8207498198...</td>\n",
       "      <td>164</td>\n",
       "      <td>1.638995e+12</td>\n",
       "      <td>ProposerBlockMined</td>\n",
       "      <td></td>\n",
       "      <td></td>\n",
       "    </tr>\n",
       "    <tr>\n",
       "      <th>164</th>\n",
       "      <td>0xa9b57317b679fa6290aa307499662e529fe36f39132b...</td>\n",
       "      <td>165</td>\n",
       "      <td>1.638995e+12</td>\n",
       "      <td>ProposerBlockMined</td>\n",
       "      <td></td>\n",
       "      <td></td>\n",
       "    </tr>\n",
       "    <tr>\n",
       "      <th>165</th>\n",
       "      <td>0x948496dfa64c1d1f1221ff7f9be0a464628b2ebd8ebb...</td>\n",
       "      <td>166</td>\n",
       "      <td>1.638995e+12</td>\n",
       "      <td>ProposerBlockMined</td>\n",
       "      <td></td>\n",
       "      <td></td>\n",
       "    </tr>\n",
       "    <tr>\n",
       "      <th>166</th>\n",
       "      <td>0x5d2f8efec0e9d54a2f93e7ead1a64b116e80343a14b6...</td>\n",
       "      <td>167</td>\n",
       "      <td>1.638995e+12</td>\n",
       "      <td>ProposerBlockMined</td>\n",
       "      <td></td>\n",
       "      <td></td>\n",
       "    </tr>\n",
       "  </tbody>\n",
       "</table>\n",
       "<p>167 rows × 6 columns</p>\n",
       "</div>"
      ],
      "text/plain": [
       "                                            Block Hash Block Number  \\\n",
       "0    0x9579d55926e3391f152be728b158f5f494e251e017e6...            1   \n",
       "1    0xae693736d5aa7524db8185743f3b86e82fac8c94bb66...            2   \n",
       "2    0xc82029a534fd6076b8097b2bfdbe45a55931e0c944e9...            3   \n",
       "3    0xed3182fbf3f02b63dc5660b0dd13aa9524f9da25f080...            4   \n",
       "4    0x415863ec96f522060562e311c6a14bf4d3cbe7848c0f...            5   \n",
       "..                                                 ...          ...   \n",
       "162  0xcd2f2e9f56e7a7e1ebb6c66041f5c8925aadfcf969e1...          163   \n",
       "163  0x78103819104558f307e432a94afd033afb8207498198...          164   \n",
       "164  0xa9b57317b679fa6290aa307499662e529fe36f39132b...          165   \n",
       "165  0x948496dfa64c1d1f1221ff7f9be0a464628b2ebd8ebb...          166   \n",
       "166  0x5d2f8efec0e9d54a2f93e7ead1a64b116e80343a14b6...          167   \n",
       "\n",
       "     Timestamp - Creation               Event Timestamp - Confirmation  \\\n",
       "0            1.638987e+12  ProposerBlockMined          1638990776118.0   \n",
       "1            1.638987e+12  ProposerBlockMined          1638990842611.0   \n",
       "2            1.638988e+12  ProposerBlockMined          1638990954505.0   \n",
       "3            1.638988e+12  ProposerBlockMined          1638990954512.0   \n",
       "4            1.638988e+12  ProposerBlockMined          1638990954519.0   \n",
       "..                    ...                 ...                      ...   \n",
       "162          1.638995e+12  ProposerBlockMined                            \n",
       "163          1.638995e+12  ProposerBlockMined                            \n",
       "164          1.638995e+12  ProposerBlockMined                            \n",
       "165          1.638995e+12  ProposerBlockMined                            \n",
       "166          1.638995e+12  ProposerBlockMined                            \n",
       "\n",
       "    Timestamp - Rollback  \n",
       "0                         \n",
       "1                         \n",
       "2                         \n",
       "3                         \n",
       "4                         \n",
       "..                   ...  \n",
       "162                       \n",
       "163                       \n",
       "164                       \n",
       "165                       \n",
       "166                       \n",
       "\n",
       "[167 rows x 6 columns]"
      ]
     },
     "execution_count": 13,
     "metadata": {},
     "output_type": "execute_result"
    }
   ],
   "source": [
    "df = pd.DataFrame(columns=['Block Hash','Block Number','Timestamp - Creation','Event','Timestamp - Confirmation','Timestamp - Rollback'])\n",
    "\n",
    "for index,key in enumerate(hashToNumber.keys()):\n",
    "    df.loc[index] = [key,\n",
    "        int(hashToNumber.get(key,'')),\n",
    "        hashToCreationTimestamp.get(key,''),\n",
    "        hashToCreationEvent.get(key,''),\n",
    "        hashToConfirmationTimestamp.get(key,''),\n",
    "        hashToRollbackTimestamp.get(key,'')]\n",
    "\n",
    "df.sort_values('Block Number')"
   ]
  },
  {
   "cell_type": "code",
   "execution_count": 14,
   "metadata": {},
   "outputs": [],
   "source": [
    "df['Latency'] = df[df['Timestamp - Confirmation']!='']['Timestamp - Confirmation']-df[df['Timestamp - Confirmation']!='']['Timestamp - Creation']\n",
    "df['Mining Time'] = df['Timestamp - Creation'].diff()\n",
    "df['Confirmation Depth']=df['Latency']/df['Mining Time']"
   ]
  },
  {
   "cell_type": "code",
   "execution_count": 15,
   "metadata": {},
   "outputs": [
    {
     "name": "stdout",
     "output_type": "stream",
     "text": [
      "Mean Latency = 3038678.786407767\n",
      "Median Latency = 3016869.0\n",
      "Mean Mining Time = 45306.03614457831\n",
      "Median Mining Time = 28941.5\n",
      "Mean Confirmation Depth = 356.73973797754076\n",
      "Median Confirmation Depth = 109.52248782055852\n"
     ]
    }
   ],
   "source": [
    "print(\"Mean Latency =\",df['Latency'].dropna().mean())\n",
    "print(\"Median Latency =\",df['Latency'].dropna().median())\n",
    "print(\"Mean Mining Time =\",df['Mining Time'].dropna().mean())\n",
    "print(\"Median Mining Time =\",df['Mining Time'].dropna().median())\n",
    "print(\"Mean Confirmation Depth =\",df['Confirmation Depth'].dropna().mean())\n",
    "print(\"Median Confirmation Depth =\",df['Confirmation Depth'].dropna().median())"
   ]
  },
  {
   "cell_type": "code",
   "execution_count": 16,
   "metadata": {},
   "outputs": [
    {
     "name": "stdout",
     "output_type": "stream",
     "text": [
      "Trial Mean Confirmation Depth = 67.4368932038835\n",
      "Trial Median Confirmation Depth = 67.0\n"
     ]
    }
   ],
   "source": [
    "creationTimestamps = df['Timestamp - Creation']\n",
    "confirmationTimestamps = df[df['Timestamp - Confirmation']!='']['Timestamp - Confirmation']\n",
    "insertionPoints = pd.DataFrame(creationTimestamps.searchsorted(value=confirmationTimestamps),columns=['Insertion Points'])\n",
    "cdArray = insertionPoints['Insertion Points'] - insertionPoints['Insertion Points'].index\n",
    "print(\"Trial Mean Confirmation Depth =\",cdArray.mean())\n",
    "print(\"Trial Median Confirmation Depth =\",cdArray.median())"
   ]
  }
 ],
 "metadata": {
  "interpreter": {
   "hash": "cf848db52ef32cc176ed1af497719705d0e2fe62659246413983ac6a5ce0226f"
  },
  "kernelspec": {
   "display_name": "Python 3.9.4 64-bit ('3.9.4': pyenv)",
   "language": "python",
   "name": "python3"
  },
  "language_info": {
   "codemirror_mode": {
    "name": "ipython",
    "version": 3
   },
   "file_extension": ".py",
   "mimetype": "text/x-python",
   "name": "python",
   "nbconvert_exporter": "python",
   "pygments_lexer": "ipython3",
   "version": "3.9.4"
  },
  "orig_nbformat": 4
 },
 "nbformat": 4,
 "nbformat_minor": 2
}
