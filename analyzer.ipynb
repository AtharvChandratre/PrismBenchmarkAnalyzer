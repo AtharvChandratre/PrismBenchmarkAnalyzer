{
 "cells": [
  {
   "cell_type": "code",
   "execution_count": 27,
   "metadata": {},
   "outputs": [
    {
     "name": "stdout",
     "output_type": "stream",
     "text": [
      "Requirement already satisfied: openpyxl in /Users/atharvchandratre/.pyenv/versions/3.9.4/lib/python3.9/site-packages (3.0.7)\n",
      "Requirement already satisfied: datetime in /Users/atharvchandratre/.pyenv/versions/3.9.4/lib/python3.9/site-packages (4.3)\n",
      "Requirement already satisfied: pandas in /Users/atharvchandratre/.pyenv/versions/3.9.4/lib/python3.9/site-packages (1.3.1)\n",
      "Requirement already satisfied: et-xmlfile in /Users/atharvchandratre/.pyenv/versions/3.9.4/lib/python3.9/site-packages (from openpyxl) (1.1.0)\n",
      "Requirement already satisfied: pytz in /Users/atharvchandratre/.pyenv/versions/3.9.4/lib/python3.9/site-packages (from datetime) (2021.1)\n",
      "Requirement already satisfied: zope.interface in /Users/atharvchandratre/.pyenv/versions/3.9.4/lib/python3.9/site-packages (from datetime) (5.4.0)\n",
      "Requirement already satisfied: python-dateutil>=2.7.3 in /Users/atharvchandratre/.pyenv/versions/3.9.4/lib/python3.9/site-packages (from pandas) (2.8.2)\n",
      "Requirement already satisfied: numpy>=1.17.3 in /Users/atharvchandratre/.pyenv/versions/3.9.4/lib/python3.9/site-packages (from pandas) (1.21.1)\n",
      "Requirement already satisfied: six>=1.5 in /Users/atharvchandratre/.pyenv/versions/3.9.4/lib/python3.9/site-packages (from python-dateutil>=2.7.3->pandas) (1.16.0)\n",
      "Requirement already satisfied: setuptools in /Users/atharvchandratre/.pyenv/versions/3.9.4/lib/python3.9/site-packages (from zope.interface->datetime) (49.2.1)\n"
     ]
    }
   ],
   "source": [
    "! pip install openpyxl datetime pandas"
   ]
  },
  {
   "cell_type": "code",
   "execution_count": 28,
   "metadata": {},
   "outputs": [],
   "source": [
    "import os\n",
    "from openpyxl import Workbook\n",
    "from datetime import datetime\n",
    "import pandas as pd"
   ]
  },
  {
   "cell_type": "code",
   "execution_count": 29,
   "metadata": {},
   "outputs": [
    {
     "name": "stdout",
     "output_type": "stream",
     "text": [
      "Log File found, beginning analysis...\n"
     ]
    }
   ],
   "source": [
    "user_input = '/Users/atharvchandratre/Documents/prism_n3_le20_d202/prism_n3_le20_d202_3.log' # Enter path to log here\n",
    "assert os.path.exists(user_input), \"I did not find the file at \"+str(user_input)\n",
    "f = open(user_input,'r')\n",
    "print(\"Log File found, beginning analysis...\")\n",
    "f.close()"
   ]
  },
  {
   "cell_type": "code",
   "execution_count": 30,
   "metadata": {},
   "outputs": [],
   "source": [
    "ProposerBlockMined = 'ProposerBlockMined'\n",
    "ValidProposerBlockDownloaded = 'ValidProposerBlockDownloaded'\n",
    "ProposerBlockConfirmed = 'ProposerBlockConfirmed'\n",
    "ProposerBlockRolledBack = 'ProposerBlockRolledBack'\n",
    "epoch = datetime.utcfromtimestamp(0)\n",
    "\n",
    "hashToNumber = {}\n",
    "hashToCreationTimestamp = {}\n",
    "hashToCreationEvent = {}\n",
    "hashToConfirmationTimestamp = {}\n",
    "hashToRollbackTimestamp = {}"
   ]
  },
  {
   "cell_type": "code",
   "execution_count": 31,
   "metadata": {},
   "outputs": [],
   "source": [
    "def getTimestamp(timestr):\n",
    "    dateTimeObj = datetime.strptime(timestr, '%Y-%m-%d %H:%M:%S,%f')\n",
    "    delta = dateTimeObj - epoch\n",
    "    return delta.total_seconds()*1000"
   ]
  },
  {
   "cell_type": "code",
   "execution_count": 32,
   "metadata": {},
   "outputs": [],
   "source": [
    "with open(user_input, 'r') as f:\n",
    "    for line in f:\n",
    "        if \"BENCHMARKING:\" not in line:\n",
    "            continue\n",
    "        benchmarkSubstrings = line[line.find(\"BENCHMARKING\"):-1].split(':')\n",
    "        dateTimeString = line.split('[')[0][:-1]\n",
    "        timestamp = getTimestamp(dateTimeString)\n",
    "        event = benchmarkSubstrings[1]\n",
    "        blockNumber = benchmarkSubstrings[3]\n",
    "        blockHash = benchmarkSubstrings[-1][1:-1]\n",
    "        if event == ProposerBlockMined or event == ValidProposerBlockDownloaded:\n",
    "            if hashToCreationTimestamp.get(blockHash)!=None:\n",
    "                continue\n",
    "            hashToNumber[blockHash] = blockNumber\n",
    "            hashToCreationEvent[blockHash] = event\n",
    "            hashToCreationTimestamp[blockHash] = timestamp\n",
    "        if event == ProposerBlockConfirmed:\n",
    "            if hashToConfirmationTimestamp.get(blockHash)!=None:\n",
    "                continue\n",
    "            hashToNumber[blockHash] = blockNumber\n",
    "            hashToConfirmationTimestamp[blockHash] = timestamp\n",
    "        if event == ProposerBlockRolledBack:\n",
    "            if hashToRollbackTimestamp.get(blockHash)!=None:\n",
    "                continue\n",
    "            hashToNumber[blockHash] = blockNumber\n",
    "            hashToRollbackTimestamp[blockHash] = timestamp\n",
    "\n",
    "f.close()"
   ]
  },
  {
   "cell_type": "code",
   "execution_count": 33,
   "metadata": {},
   "outputs": [
    {
     "data": {
      "text/html": [
       "<div>\n",
       "<style scoped>\n",
       "    .dataframe tbody tr th:only-of-type {\n",
       "        vertical-align: middle;\n",
       "    }\n",
       "\n",
       "    .dataframe tbody tr th {\n",
       "        vertical-align: top;\n",
       "    }\n",
       "\n",
       "    .dataframe thead th {\n",
       "        text-align: right;\n",
       "    }\n",
       "</style>\n",
       "<table border=\"1\" class=\"dataframe\">\n",
       "  <thead>\n",
       "    <tr style=\"text-align: right;\">\n",
       "      <th></th>\n",
       "      <th>Block Hash</th>\n",
       "      <th>Block Number</th>\n",
       "      <th>Timestamp - Creation</th>\n",
       "      <th>Event</th>\n",
       "      <th>Timestamp - Confirmation</th>\n",
       "      <th>Timestamp - Rollback</th>\n",
       "    </tr>\n",
       "  </thead>\n",
       "  <tbody>\n",
       "    <tr>\n",
       "      <th>0</th>\n",
       "      <td>0x30d9b6946f0168b15a60dd5463364864fa678ccc3e27...</td>\n",
       "      <td>1</td>\n",
       "      <td>1.639965e+12</td>\n",
       "      <td>ValidProposerBlockDownloaded</td>\n",
       "      <td>1639968431315.0</td>\n",
       "      <td></td>\n",
       "    </tr>\n",
       "    <tr>\n",
       "      <th>1</th>\n",
       "      <td>0xd448e65412657030115d0645057db1504b59065b338e...</td>\n",
       "      <td>2</td>\n",
       "      <td>1.639965e+12</td>\n",
       "      <td>ValidProposerBlockDownloaded</td>\n",
       "      <td>1639968725644.0</td>\n",
       "      <td></td>\n",
       "    </tr>\n",
       "    <tr>\n",
       "      <th>2</th>\n",
       "      <td>0x9801770612424900b503f726171d03e223b28599bcb3...</td>\n",
       "      <td>3</td>\n",
       "      <td>1.639965e+12</td>\n",
       "      <td>ValidProposerBlockDownloaded</td>\n",
       "      <td>1639968726590.0</td>\n",
       "      <td></td>\n",
       "    </tr>\n",
       "    <tr>\n",
       "      <th>3</th>\n",
       "      <td>0xa090c8da22dd0866678e3ee7e45f5878aca5ae3940cf...</td>\n",
       "      <td>4</td>\n",
       "      <td>1.639965e+12</td>\n",
       "      <td>ValidProposerBlockDownloaded</td>\n",
       "      <td>1639968727298.0</td>\n",
       "      <td></td>\n",
       "    </tr>\n",
       "    <tr>\n",
       "      <th>4</th>\n",
       "      <td>0xc0a12ad9e808dd53a47740802f3ba15ac8a62ade6bf1...</td>\n",
       "      <td>5</td>\n",
       "      <td>1.639965e+12</td>\n",
       "      <td>ValidProposerBlockDownloaded</td>\n",
       "      <td>1639968728137.0</td>\n",
       "      <td></td>\n",
       "    </tr>\n",
       "    <tr>\n",
       "      <th>...</th>\n",
       "      <td>...</td>\n",
       "      <td>...</td>\n",
       "      <td>...</td>\n",
       "      <td>...</td>\n",
       "      <td>...</td>\n",
       "      <td>...</td>\n",
       "    </tr>\n",
       "    <tr>\n",
       "      <th>118</th>\n",
       "      <td>0xf7eb851f52e6c48bfddcee4ba4252c13c74eedf16194...</td>\n",
       "      <td>87</td>\n",
       "      <td>1.639971e+12</td>\n",
       "      <td>ProposerBlockMined</td>\n",
       "      <td></td>\n",
       "      <td></td>\n",
       "    </tr>\n",
       "    <tr>\n",
       "      <th>119</th>\n",
       "      <td>0xd4f8101e9204c11411aac8112089bcd7a6d55389e036...</td>\n",
       "      <td>88</td>\n",
       "      <td>1.639971e+12</td>\n",
       "      <td>ProposerBlockMined</td>\n",
       "      <td></td>\n",
       "      <td></td>\n",
       "    </tr>\n",
       "    <tr>\n",
       "      <th>120</th>\n",
       "      <td>0x36941d44f348939bda5281539b26cbfe4abb7a0cdf2e...</td>\n",
       "      <td>89</td>\n",
       "      <td>1.639971e+12</td>\n",
       "      <td>ProposerBlockMined</td>\n",
       "      <td></td>\n",
       "      <td></td>\n",
       "    </tr>\n",
       "    <tr>\n",
       "      <th>121</th>\n",
       "      <td>0x15e1947e90e02e8f60d21bdf04c504034ab868bb710d...</td>\n",
       "      <td>90</td>\n",
       "      <td>1.639971e+12</td>\n",
       "      <td>ProposerBlockMined</td>\n",
       "      <td></td>\n",
       "      <td></td>\n",
       "    </tr>\n",
       "    <tr>\n",
       "      <th>122</th>\n",
       "      <td>0xd19b17f32b59c1521bd9c4f5a124c99ab32309929b4c...</td>\n",
       "      <td>91</td>\n",
       "      <td>1.639971e+12</td>\n",
       "      <td>ProposerBlockMined</td>\n",
       "      <td></td>\n",
       "      <td></td>\n",
       "    </tr>\n",
       "  </tbody>\n",
       "</table>\n",
       "<p>123 rows × 6 columns</p>\n",
       "</div>"
      ],
      "text/plain": [
       "                                            Block Hash Block Number  \\\n",
       "0    0x30d9b6946f0168b15a60dd5463364864fa678ccc3e27...            1   \n",
       "1    0xd448e65412657030115d0645057db1504b59065b338e...            2   \n",
       "2    0x9801770612424900b503f726171d03e223b28599bcb3...            3   \n",
       "3    0xa090c8da22dd0866678e3ee7e45f5878aca5ae3940cf...            4   \n",
       "4    0xc0a12ad9e808dd53a47740802f3ba15ac8a62ade6bf1...            5   \n",
       "..                                                 ...          ...   \n",
       "118  0xf7eb851f52e6c48bfddcee4ba4252c13c74eedf16194...           87   \n",
       "119  0xd4f8101e9204c11411aac8112089bcd7a6d55389e036...           88   \n",
       "120  0x36941d44f348939bda5281539b26cbfe4abb7a0cdf2e...           89   \n",
       "121  0x15e1947e90e02e8f60d21bdf04c504034ab868bb710d...           90   \n",
       "122  0xd19b17f32b59c1521bd9c4f5a124c99ab32309929b4c...           91   \n",
       "\n",
       "     Timestamp - Creation                         Event  \\\n",
       "0            1.639965e+12  ValidProposerBlockDownloaded   \n",
       "1            1.639965e+12  ValidProposerBlockDownloaded   \n",
       "2            1.639965e+12  ValidProposerBlockDownloaded   \n",
       "3            1.639965e+12  ValidProposerBlockDownloaded   \n",
       "4            1.639965e+12  ValidProposerBlockDownloaded   \n",
       "..                    ...                           ...   \n",
       "118          1.639971e+12            ProposerBlockMined   \n",
       "119          1.639971e+12            ProposerBlockMined   \n",
       "120          1.639971e+12            ProposerBlockMined   \n",
       "121          1.639971e+12            ProposerBlockMined   \n",
       "122          1.639971e+12            ProposerBlockMined   \n",
       "\n",
       "    Timestamp - Confirmation Timestamp - Rollback  \n",
       "0            1639968431315.0                       \n",
       "1            1639968725644.0                       \n",
       "2            1639968726590.0                       \n",
       "3            1639968727298.0                       \n",
       "4            1639968728137.0                       \n",
       "..                       ...                  ...  \n",
       "118                                                \n",
       "119                                                \n",
       "120                                                \n",
       "121                                                \n",
       "122                                                \n",
       "\n",
       "[123 rows x 6 columns]"
      ]
     },
     "execution_count": 33,
     "metadata": {},
     "output_type": "execute_result"
    }
   ],
   "source": [
    "df = pd.DataFrame(columns=['Block Hash','Block Number','Timestamp - Creation','Event','Timestamp - Confirmation','Timestamp - Rollback'])\n",
    "\n",
    "for index,key in enumerate(hashToNumber.keys()):\n",
    "    df.loc[index] = [key,\n",
    "        int(hashToNumber.get(key,'')),\n",
    "        hashToCreationTimestamp.get(key,''),\n",
    "        hashToCreationEvent.get(key,''),\n",
    "        hashToConfirmationTimestamp.get(key,''),\n",
    "        hashToRollbackTimestamp.get(key,'')]\n",
    "\n",
    "df.sort_values('Block Number')"
   ]
  },
  {
   "cell_type": "code",
   "execution_count": 34,
   "metadata": {},
   "outputs": [],
   "source": [
    "df['Latency'] = df[df['Timestamp - Confirmation']!='']['Timestamp - Confirmation']-df[df['Timestamp - Confirmation']!='']['Timestamp - Creation']\n",
    "df['Mining Time'] = df['Timestamp - Creation'].diff()\n",
    "df['Confirmation Depth']=df['Latency']/df['Mining Time']"
   ]
  },
  {
   "cell_type": "code",
   "execution_count": 35,
   "metadata": {},
   "outputs": [
    {
     "name": "stdout",
     "output_type": "stream",
     "text": [
      "Mean Latency = 3498213.882352941\n",
      "Median Latency = 3455308.0\n",
      "Mean Mining Time = 53457.11475409836\n",
      "Median Mining Time = 50164.5\n",
      "Mean Confirmation Depth = 123.05236877850881\n",
      "Median Confirmation Depth = 62.92287072934435\n"
     ]
    }
   ],
   "source": [
    "print(\"Mean Latency =\",df['Latency'].dropna().mean())\n",
    "print(\"Median Latency =\",df['Latency'].dropna().median())\n",
    "print(\"Mean Mining Time =\",df['Mining Time'].dropna().mean())\n",
    "print(\"Median Mining Time =\",df['Mining Time'].dropna().median())\n",
    "print(\"Mean Confirmation Depth =\",df['Confirmation Depth'].dropna().mean())\n",
    "print(\"Median Confirmation Depth =\",df['Confirmation Depth'].dropna().median())"
   ]
  },
  {
   "cell_type": "code",
   "execution_count": 36,
   "metadata": {},
   "outputs": [
    {
     "name": "stdout",
     "output_type": "stream",
     "text": [
      "Trial Mean Confirmation Depth = 74.37254901960785\n",
      "Trial Median Confirmation Depth = 74.0\n"
     ]
    }
   ],
   "source": [
    "creationTimestamps = df['Timestamp - Creation']\n",
    "confirmationTimestamps = df[df['Timestamp - Confirmation']!='']['Timestamp - Confirmation']\n",
    "insertionPoints = pd.DataFrame(creationTimestamps.searchsorted(value=confirmationTimestamps),columns=['Insertion Points'])\n",
    "cdArray = insertionPoints['Insertion Points'] - insertionPoints['Insertion Points'].index\n",
    "print(\"Trial Mean Confirmation Depth =\",cdArray.mean())\n",
    "print(\"Trial Median Confirmation Depth =\",cdArray.median())"
   ]
  }
 ],
 "metadata": {
  "interpreter": {
   "hash": "cf848db52ef32cc176ed1af497719705d0e2fe62659246413983ac6a5ce0226f"
  },
  "kernelspec": {
   "display_name": "Python 3.9.4 64-bit ('3.9.4': pyenv)",
   "language": "python",
   "name": "python3"
  },
  "language_info": {
   "codemirror_mode": {
    "name": "ipython",
    "version": 3
   },
   "file_extension": ".py",
   "mimetype": "text/x-python",
   "name": "python",
   "nbconvert_exporter": "python",
   "pygments_lexer": "ipython3",
   "version": "3.9.4"
  },
  "orig_nbformat": 4
 },
 "nbformat": 4,
 "nbformat_minor": 2
}
