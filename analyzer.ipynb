{
 "cells": [
  {
   "cell_type": "code",
   "execution_count": null,
   "metadata": {},
   "outputs": [],
   "source": [
    "! pip install datetime pandas matplotlib"
   ]
  },
  {
   "cell_type": "code",
   "execution_count": null,
   "metadata": {},
   "outputs": [],
   "source": [
    "import os\n",
    "from datetime import datetime\n",
    "import pandas as pd\n",
    "import matplotlib.pyplot as plt"
   ]
  },
  {
   "cell_type": "code",
   "execution_count": null,
   "metadata": {},
   "outputs": [],
   "source": [
    "user_input = '/Users/atharvchandratre/Workspace/Atharv/GitHub/PrismBenchmarkAnalyzer/prism_n3_le20_d202_vchain_1.log' # Enter path to log here\n",
    "assert os.path.exists(user_input), \"I did not find the file at \"+str(user_input)\n",
    "f = open(user_input,'r')\n",
    "print(\"Log File found, beginning analysis...\")\n",
    "f.close()"
   ]
  },
  {
   "cell_type": "code",
   "execution_count": null,
   "metadata": {},
   "outputs": [],
   "source": [
    "ProposerBlockMined = 'ProposerBlockMined'\n",
    "ValidProposerBlockDownloaded = 'ValidProposerBlockDownloaded'\n",
    "ProposerBlockConfirmed = 'ProposerBlockConfirmed'\n",
    "ProposerBlockRolledBack = 'ProposerBlockRolledBack'\n",
    "epoch = datetime.utcfromtimestamp(0)\n",
    "\n",
    "hashToNumber = {}\n",
    "hashToCreationTimestamp = {}\n",
    "hashToCreationEvent = {}\n",
    "hashToConfirmationTimestamp = {}\n",
    "hashToRollbackTimestamp = {}"
   ]
  },
  {
   "cell_type": "code",
   "execution_count": null,
   "metadata": {},
   "outputs": [],
   "source": [
    "def getTimestamp(timestr):\n",
    "    dateTimeObj = datetime.strptime(timestr, '%Y-%m-%d %H:%M:%S,%f')\n",
    "    delta = dateTimeObj - epoch\n",
    "    return delta.total_seconds()*1000"
   ]
  },
  {
   "cell_type": "code",
   "execution_count": null,
   "metadata": {},
   "outputs": [],
   "source": [
    "with open(user_input, 'r') as f:\n",
    "    for line in f:\n",
    "        if \"BENCHMARKING:\" not in line:\n",
    "            continue\n",
    "        benchmarkSubstrings = line[line.find(\"BENCHMARKING\"):-1].split(':')\n",
    "        dateTimeString = line.split('[')[0][:-1]\n",
    "        timestamp = getTimestamp(dateTimeString)\n",
    "        event = benchmarkSubstrings[1]\n",
    "        blockNumber = benchmarkSubstrings[3]\n",
    "        blockHash = benchmarkSubstrings[-1][1:-1]\n",
    "        if event == ProposerBlockMined or event == ValidProposerBlockDownloaded:\n",
    "            if hashToCreationTimestamp.get(blockHash)!=None:\n",
    "                continue\n",
    "            hashToNumber[blockHash] = blockNumber\n",
    "            hashToCreationEvent[blockHash] = event\n",
    "            hashToCreationTimestamp[blockHash] = timestamp\n",
    "        if event == ProposerBlockConfirmed:\n",
    "            if hashToConfirmationTimestamp.get(blockHash)!=None:\n",
    "                continue\n",
    "            hashToNumber[blockHash] = blockNumber\n",
    "            hashToConfirmationTimestamp[blockHash] = timestamp\n",
    "        if event == ProposerBlockRolledBack:\n",
    "            if hashToRollbackTimestamp.get(blockHash)!=None:\n",
    "                continue\n",
    "            hashToNumber[blockHash] = blockNumber\n",
    "            hashToRollbackTimestamp[blockHash] = timestamp\n",
    "\n",
    "f.close()"
   ]
  },
  {
   "cell_type": "code",
   "execution_count": null,
   "metadata": {},
   "outputs": [],
   "source": [
    "df = pd.DataFrame(columns=['Block Hash','Block Number','Timestamp - Creation','Event','Timestamp - Confirmation','Timestamp - Rollback'])\n",
    "\n",
    "for index,key in enumerate(hashToNumber.keys()):\n",
    "    df.loc[index] = [key,\n",
    "        int(hashToNumber.get(key,'')),\n",
    "        int(hashToCreationTimestamp.get(key,-1)),\n",
    "        hashToCreationEvent.get(key,''),\n",
    "        int(hashToConfirmationTimestamp.get(key,-1)),\n",
    "        int(hashToRollbackTimestamp.get(key,-1))]\n",
    "\n",
    "df.sort_values('Block Number')"
   ]
  },
  {
   "cell_type": "code",
   "execution_count": null,
   "metadata": {},
   "outputs": [],
   "source": [
    "df['Latency'] = df[df['Timestamp - Confirmation']!=-1]['Timestamp - Confirmation']-df[df['Timestamp - Confirmation']!=-1]['Timestamp - Creation']\n",
    "df['Mining Time'] = df['Timestamp - Creation'].diff()\n",
    "df['Confirmation Depth']=df['Latency']/df['Mining Time']"
   ]
  },
  {
   "cell_type": "code",
   "execution_count": null,
   "metadata": {},
   "outputs": [],
   "source": [
    "print(\"Mean Latency =\",df['Latency'].dropna().mean())\n",
    "print(\"Median Latency =\",df['Latency'].dropna().median())\n",
    "print(\"Mean Mining Time =\",df['Mining Time'].dropna().mean())\n",
    "print(\"Median Mining Time =\",df['Mining Time'].dropna().median())\n",
    "print(\"Mean Confirmation Depth =\",df['Confirmation Depth'].dropna().mean())\n",
    "print(\"Median Confirmation Depth =\",df['Confirmation Depth'].dropna().median())"
   ]
  },
  {
   "cell_type": "code",
   "execution_count": null,
   "metadata": {},
   "outputs": [],
   "source": [
    "creationTimestamps = df['Timestamp - Creation']\n",
    "confirmationTimestamps = df[df['Timestamp - Confirmation']!=-1]['Timestamp - Confirmation']\n",
    "insertionPoints = pd.DataFrame(creationTimestamps.searchsorted(value=confirmationTimestamps),columns=['Insertion Points'])\n",
    "cdArray = insertionPoints['Insertion Points'] - insertionPoints['Insertion Points'].index\n",
    "print(\"Trial Mean Confirmation Depth =\",cdArray.mean())\n",
    "print(\"Trial Median Confirmation Depth =\",cdArray.median())"
   ]
  },
  {
   "cell_type": "code",
   "execution_count": null,
   "metadata": {},
   "outputs": [],
   "source": [
    "proposerBlockNumbersArray = []\n",
    "voterChainBestTopBlocksArray = []\n",
    "with open(user_input, 'r') as f:\n",
    "    for line in f:\n",
    "        if \"VOTERCHAINHEALTH:\" not in line:\n",
    "            continue\n",
    "        benchmarkSubstrings = line[line.find(\"VOTERCHAINHEALTH\"):-1].split(':')\n",
    "        proposerBlockNumber = int(benchmarkSubstrings[-2][:(benchmarkSubstrings[-2].find(\"(\")-1)])\n",
    "        voterChainBestTopBlock = int(benchmarkSubstrings[4])\n",
    "        proposerBlockNumbersArray.append(proposerBlockNumber)\n",
    "        voterChainBestTopBlocksArray.append(voterChainBestTopBlock)\n",
    "\n",
    "\n",
    "f.close()"
   ]
  },
  {
   "cell_type": "code",
   "execution_count": null,
   "metadata": {},
   "outputs": [],
   "source": [
    "plt.scatter(proposerBlockNumbersArray, voterChainBestTopBlocksArray, c =\"orange\")\n",
    " \n",
    "# To show the plot\n",
    "plt.xlabel(\"Proposer Block Number\")\n",
    "plt.ylabel(\"Voter Chain Best Top Block\")\n",
    "plt.show()"
   ]
  },
  {
   "cell_type": "code",
   "execution_count": null,
   "metadata": {},
   "outputs": [],
   "source": [
    "firstTimeStamp = df['Timestamp - Creation'][0]\n",
    "\n",
    "proposerBlocksCoordinates = [[],[]]\n",
    "proposerBlocksMinedOnlyCoordinates = [[],[]]\n",
    "proposerBlockDownloadedOnlyCoordinates = [[],[]]\n",
    "\n",
    "with open(user_input, 'r') as f:\n",
    "    for line in f:\n",
    "        if \"BENCHMARKING:\" not in line:\n",
    "            continue\n",
    "        benchmarkSubstrings = line[line.find(\"BENCHMARKING\"):-1].split(':')\n",
    "        dateTimeString = line.split('[')[0][:-1]\n",
    "        timestamp = getTimestamp(dateTimeString)\n",
    "        event = benchmarkSubstrings[1]\n",
    "        blockNumber = int(benchmarkSubstrings[3])\n",
    "        if event == ProposerBlockMined:\n",
    "            proposerBlocksCoordinates[0].append(blockNumber)\n",
    "            proposerBlocksCoordinates[1].append((timestamp-firstTimeStamp)/1000)\n",
    "            proposerBlocksMinedOnlyCoordinates[0].append(blockNumber)\n",
    "            proposerBlocksMinedOnlyCoordinates[1].append((timestamp-firstTimeStamp)/1000)\n",
    "        if event == ValidProposerBlockDownloaded:\n",
    "            proposerBlocksCoordinates[0].append(blockNumber)\n",
    "            proposerBlocksCoordinates[1].append((timestamp-firstTimeStamp)/1000)\n",
    "            proposerBlockDownloadedOnlyCoordinates[0].append(blockNumber)\n",
    "            proposerBlockDownloadedOnlyCoordinates[1].append((timestamp-firstTimeStamp)/1000)\n",
    "f.close()\n",
    "\n",
    "\n",
    "voterChainsCoordinates = []\n",
    "for i in range(0,100):\n",
    "    voterChainsCoordinates.append([[],[]])\n",
    "\n",
    "with open(user_input, 'r') as f:\n",
    "    for line in f:\n",
    "        if \"VOTERCHAINHEALTH:\" not in line:\n",
    "            continue\n",
    "        benchmarkSubstrings = line[line.find(\"VOTERCHAINHEALTH\"):-1].split(':')\n",
    "        dateTimeString = line.split('[')[0][:-1]\n",
    "        timestamp = getTimestamp(dateTimeString)\n",
    "        voterChainBestTopBlock = int(benchmarkSubstrings[4])\n",
    "        voterChainIdx = int(benchmarkSubstrings[2])\n",
    "        voterChainsCoordinates[voterChainIdx][0].append(voterChainBestTopBlock)\n",
    "        voterChainsCoordinates[voterChainIdx][1].append((timestamp-firstTimeStamp)/1000)\n",
    "f.close()"
   ]
  },
  {
   "cell_type": "code",
   "execution_count": null,
   "metadata": {},
   "outputs": [],
   "source": [
    "voterChainToSee = 80\n",
    "\n",
    "plt.plot(proposerBlocksCoordinates[1], proposerBlocksCoordinates[0], c =\"forestgreen\", label=\"Proposer Chain\")\n",
    "plt.plot(voterChainsCoordinates[voterChainToSee][1], voterChainsCoordinates[voterChainToSee][0], c=\"red\", label=\"Voter Chain\") \n",
    "plt.legend(loc=\"upper left\")\n",
    "\n",
    " \n",
    "# To show the plot\n",
    "plt.title(\"One Proposer Chain with One Voter Chain\")\n",
    "plt.xlabel(\"Timestamp (seconds)\")\n",
    "plt.ylabel(\"Block Number\")\n",
    "plt.show()"
   ]
  },
  {
   "cell_type": "code",
   "execution_count": null,
   "metadata": {},
   "outputs": [],
   "source": [
    "numberOfChainsToSee = 20\n",
    "\n",
    "for i in range(0,numberOfChainsToSee):\n",
    "    plt.plot(voterChainsCoordinates[i][1], voterChainsCoordinates[i][0], c=\"lightgreen\", label=\"Voter Chain\")\n",
    "\n",
    "plt.plot(proposerBlocksCoordinates[1], proposerBlocksCoordinates[0], c =\"red\", label=\"Proposer Chain\") \n",
    "\n",
    "# To show the plot\n",
    "plt.title(\"One Proposer Chain with Multiple Voter Chains\")\n",
    "plt.xlabel(\"Timestamp (seconds)\")\n",
    "plt.ylabel(\"Block Number\")\n",
    "plt.show()"
   ]
  },
  {
   "cell_type": "code",
   "execution_count": null,
   "metadata": {},
   "outputs": [],
   "source": [
    "voterChainToSee = 42\n",
    "\n",
    "plt.plot(proposerBlocksMinedOnlyCoordinates[1], proposerBlocksMinedOnlyCoordinates[0], c =\"forestgreen\", label=\"Proposer Chain\")\n",
    "plt.plot(voterChainsCoordinates[voterChainToSee][1], voterChainsCoordinates[voterChainToSee][0], c=\"red\", label=\"Voter Chain\") \n",
    "plt.legend(loc=\"upper left\")\n",
    "\n",
    " \n",
    "# To show the plot\n",
    "plt.title(\"Proposer Chain Mined Only with One Voter Chain\")\n",
    "plt.xlabel(\"Timestamp (seconds)\")\n",
    "plt.ylabel(\"Block Number\")\n",
    "plt.show()"
   ]
  },
  {
   "cell_type": "code",
   "execution_count": null,
   "metadata": {},
   "outputs": [],
   "source": [
    "voterChainToSee = 42\n",
    "\n",
    "plt.plot(proposerBlockDownloadedOnlyCoordinates[1], proposerBlockDownloadedOnlyCoordinates[0], c =\"forestgreen\", label=\"Proposer Chain\")\n",
    "plt.plot(voterChainsCoordinates[voterChainToSee][1], voterChainsCoordinates[voterChainToSee][0], c=\"red\", label=\"Voter Chain\") \n",
    "plt.legend(loc=\"upper left\")\n",
    "\n",
    " \n",
    "# To show the plot\n",
    "plt.title(\"Proposer Chain Downloaded Only with One Voter Chain\")\n",
    "plt.xlabel(\"Timestamp (seconds)\")\n",
    "plt.ylabel(\"Block Number\")\n",
    "plt.show()"
   ]
  },
  {
   "cell_type": "code",
   "execution_count": null,
   "metadata": {},
   "outputs": [],
   "source": [
    "plt.scatter(proposerBlockNumbersArray, voterChainBestTopBlocksArray, c =\"orange\")\n",
    " \n",
    "# To show the plot\n",
    "plt.title(\"Proposer Block Number vs Voter Chains Best Top Block Scatter\")\n",
    "plt.xlabel(\"Proposer Block Number\")\n",
    "plt.ylabel(\"Voter Chain Best Top Block\")\n",
    "plt.show()"
   ]
  }
 ],
 "metadata": {
  "interpreter": {
   "hash": "cf848db52ef32cc176ed1af497719705d0e2fe62659246413983ac6a5ce0226f"
  },
  "kernelspec": {
   "display_name": "Python 3.9.4 64-bit ('3.9.4': pyenv)",
   "language": "python",
   "name": "python3"
  },
  "language_info": {
   "codemirror_mode": {
    "name": "ipython",
    "version": 3
   },
   "file_extension": ".py",
   "mimetype": "text/x-python",
   "name": "python",
   "nbconvert_exporter": "python",
   "pygments_lexer": "ipython3",
   "version": "3.9.4"
  },
  "orig_nbformat": 4
 },
 "nbformat": 4,
 "nbformat_minor": 2
}
