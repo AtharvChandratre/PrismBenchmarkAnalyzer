{
 "cells": [
  {
   "cell_type": "code",
   "execution_count": 116,
   "metadata": {},
   "outputs": [
    {
     "name": "stdout",
     "output_type": "stream",
     "text": [
      "Requirement already satisfied: openpyxl in /Users/atharvchandratre/.pyenv/versions/3.9.4/lib/python3.9/site-packages (3.0.7)\n",
      "Requirement already satisfied: datetime in /Users/atharvchandratre/.pyenv/versions/3.9.4/lib/python3.9/site-packages (4.3)\n",
      "Requirement already satisfied: pandas in /Users/atharvchandratre/.pyenv/versions/3.9.4/lib/python3.9/site-packages (1.3.1)\n",
      "Requirement already satisfied: matplotlib in /Users/atharvchandratre/.pyenv/versions/3.9.4/lib/python3.9/site-packages (3.5.1)\n",
      "Requirement already satisfied: et-xmlfile in /Users/atharvchandratre/.pyenv/versions/3.9.4/lib/python3.9/site-packages (from openpyxl) (1.1.0)\n",
      "Requirement already satisfied: zope.interface in /Users/atharvchandratre/.pyenv/versions/3.9.4/lib/python3.9/site-packages (from datetime) (5.4.0)\n",
      "Requirement already satisfied: pytz in /Users/atharvchandratre/.pyenv/versions/3.9.4/lib/python3.9/site-packages (from datetime) (2021.1)\n",
      "Requirement already satisfied: python-dateutil>=2.7.3 in /Users/atharvchandratre/.pyenv/versions/3.9.4/lib/python3.9/site-packages (from pandas) (2.8.2)\n",
      "Requirement already satisfied: numpy>=1.17.3 in /Users/atharvchandratre/.pyenv/versions/3.9.4/lib/python3.9/site-packages (from pandas) (1.21.1)\n",
      "Requirement already satisfied: pillow>=6.2.0 in /Users/atharvchandratre/.pyenv/versions/3.9.4/lib/python3.9/site-packages (from matplotlib) (8.3.1)\n",
      "Requirement already satisfied: packaging>=20.0 in /Users/atharvchandratre/.pyenv/versions/3.9.4/lib/python3.9/site-packages (from matplotlib) (21.3)\n",
      "Requirement already satisfied: fonttools>=4.22.0 in /Users/atharvchandratre/.pyenv/versions/3.9.4/lib/python3.9/site-packages (from matplotlib) (4.28.5)\n",
      "Requirement already satisfied: pyparsing>=2.2.1 in /Users/atharvchandratre/.pyenv/versions/3.9.4/lib/python3.9/site-packages (from matplotlib) (3.0.6)\n",
      "Requirement already satisfied: kiwisolver>=1.0.1 in /Users/atharvchandratre/.pyenv/versions/3.9.4/lib/python3.9/site-packages (from matplotlib) (1.3.2)\n",
      "Requirement already satisfied: cycler>=0.10 in /Users/atharvchandratre/.pyenv/versions/3.9.4/lib/python3.9/site-packages (from matplotlib) (0.11.0)\n",
      "Requirement already satisfied: six>=1.5 in /Users/atharvchandratre/.pyenv/versions/3.9.4/lib/python3.9/site-packages (from python-dateutil>=2.7.3->pandas) (1.16.0)\n",
      "Requirement already satisfied: setuptools in /Users/atharvchandratre/.pyenv/versions/3.9.4/lib/python3.9/site-packages (from zope.interface->datetime) (49.2.1)\n"
     ]
    }
   ],
   "source": [
    "! pip install openpyxl datetime pandas matplotlib"
   ]
  },
  {
   "cell_type": "code",
   "execution_count": 117,
   "metadata": {},
   "outputs": [],
   "source": [
    "import os\n",
    "from openpyxl import Workbook\n",
    "from datetime import datetime\n",
    "import pandas as pd\n",
    "import matplotlib.pyplot as plt"
   ]
  },
  {
   "cell_type": "code",
   "execution_count": 118,
   "metadata": {},
   "outputs": [
    {
     "name": "stdout",
     "output_type": "stream",
     "text": [
      "Log File found, beginning analysis...\n"
     ]
    }
   ],
   "source": [
    "user_input = '/Users/atharvchandratre/Workspace/Atharv/GitHub/PrismBenchmarkAnalyzer/prism_n3_le20_d202_vchain_2.log' # Enter path to log here\n",
    "assert os.path.exists(user_input), \"I did not find the file at \"+str(user_input)\n",
    "f = open(user_input,'r')\n",
    "print(\"Log File found, beginning analysis...\")\n",
    "f.close()"
   ]
  },
  {
   "cell_type": "code",
   "execution_count": 119,
   "metadata": {},
   "outputs": [],
   "source": [
    "ProposerBlockMined = 'ProposerBlockMined'\n",
    "ValidProposerBlockDownloaded = 'ValidProposerBlockDownloaded'\n",
    "ProposerBlockConfirmed = 'ProposerBlockConfirmed'\n",
    "ProposerBlockRolledBack = 'ProposerBlockRolledBack'\n",
    "epoch = datetime.utcfromtimestamp(0)\n",
    "\n",
    "hashToNumber = {}\n",
    "hashToCreationTimestamp = {}\n",
    "hashToCreationEvent = {}\n",
    "hashToConfirmationTimestamp = {}\n",
    "hashToRollbackTimestamp = {}"
   ]
  },
  {
   "cell_type": "code",
   "execution_count": 120,
   "metadata": {},
   "outputs": [],
   "source": [
    "def getTimestamp(timestr):\n",
    "    dateTimeObj = datetime.strptime(timestr, '%Y-%m-%d %H:%M:%S,%f')\n",
    "    delta = dateTimeObj - epoch\n",
    "    return delta.total_seconds()*1000"
   ]
  },
  {
   "cell_type": "code",
   "execution_count": 121,
   "metadata": {},
   "outputs": [],
   "source": [
    "with open(user_input, 'r') as f:\n",
    "    for line in f:\n",
    "        if \"BENCHMARKING:\" not in line:\n",
    "            continue\n",
    "        benchmarkSubstrings = line[line.find(\"BENCHMARKING\"):-1].split(':')\n",
    "        dateTimeString = line.split('[')[0][:-1]\n",
    "        timestamp = getTimestamp(dateTimeString)\n",
    "        event = benchmarkSubstrings[1]\n",
    "        blockNumber = benchmarkSubstrings[3]\n",
    "        blockHash = benchmarkSubstrings[-1][1:-1]\n",
    "        if event == ProposerBlockMined or event == ValidProposerBlockDownloaded:\n",
    "            if hashToCreationTimestamp.get(blockHash)!=None:\n",
    "                continue\n",
    "            hashToNumber[blockHash] = blockNumber\n",
    "            hashToCreationEvent[blockHash] = event\n",
    "            hashToCreationTimestamp[blockHash] = timestamp\n",
    "        if event == ProposerBlockConfirmed:\n",
    "            if hashToConfirmationTimestamp.get(blockHash)!=None:\n",
    "                continue\n",
    "            hashToNumber[blockHash] = blockNumber\n",
    "            hashToConfirmationTimestamp[blockHash] = timestamp\n",
    "        if event == ProposerBlockRolledBack:\n",
    "            if hashToRollbackTimestamp.get(blockHash)!=None:\n",
    "                continue\n",
    "            hashToNumber[blockHash] = blockNumber\n",
    "            hashToRollbackTimestamp[blockHash] = timestamp\n",
    "\n",
    "f.close()"
   ]
  },
  {
   "cell_type": "code",
   "execution_count": 122,
   "metadata": {},
   "outputs": [
    {
     "data": {
      "text/html": [
       "<div>\n",
       "<style scoped>\n",
       "    .dataframe tbody tr th:only-of-type {\n",
       "        vertical-align: middle;\n",
       "    }\n",
       "\n",
       "    .dataframe tbody tr th {\n",
       "        vertical-align: top;\n",
       "    }\n",
       "\n",
       "    .dataframe thead th {\n",
       "        text-align: right;\n",
       "    }\n",
       "</style>\n",
       "<table border=\"1\" class=\"dataframe\">\n",
       "  <thead>\n",
       "    <tr style=\"text-align: right;\">\n",
       "      <th></th>\n",
       "      <th>Block Hash</th>\n",
       "      <th>Block Number</th>\n",
       "      <th>Timestamp - Creation</th>\n",
       "      <th>Event</th>\n",
       "      <th>Timestamp - Confirmation</th>\n",
       "      <th>Timestamp - Rollback</th>\n",
       "    </tr>\n",
       "  </thead>\n",
       "  <tbody>\n",
       "    <tr>\n",
       "      <th>0</th>\n",
       "      <td>0x07c5150c5627b40a856af7dc813521e230bcfa288caa...</td>\n",
       "      <td>1</td>\n",
       "      <td>1.640116e+12</td>\n",
       "      <td>ValidProposerBlockDownloaded</td>\n",
       "      <td>1640117060004.0</td>\n",
       "      <td></td>\n",
       "    </tr>\n",
       "    <tr>\n",
       "      <th>1</th>\n",
       "      <td>0x8233279a7f10b99fb020b0ab1c4d43bbbeae131448ec...</td>\n",
       "      <td>2</td>\n",
       "      <td>1.640116e+12</td>\n",
       "      <td>ProposerBlockMined</td>\n",
       "      <td>1640117281898.0</td>\n",
       "      <td></td>\n",
       "    </tr>\n",
       "    <tr>\n",
       "      <th>2</th>\n",
       "      <td>0x99bd0255aa47e5bd63fd5a4cc644f4472098b6999f61...</td>\n",
       "      <td>2</td>\n",
       "      <td>1.640116e+12</td>\n",
       "      <td>ValidProposerBlockDownloaded</td>\n",
       "      <td></td>\n",
       "      <td></td>\n",
       "    </tr>\n",
       "    <tr>\n",
       "      <th>7</th>\n",
       "      <td>0xf225d1ee065d71b8a88171275fbae0cd2158f9ebef21...</td>\n",
       "      <td>3</td>\n",
       "      <td>1.640116e+12</td>\n",
       "      <td>ValidProposerBlockDownloaded</td>\n",
       "      <td></td>\n",
       "      <td></td>\n",
       "    </tr>\n",
       "    <tr>\n",
       "      <th>8</th>\n",
       "      <td>0x845de28c7fe0d4e7c4cb6db2be8b2efd476757993266...</td>\n",
       "      <td>3</td>\n",
       "      <td>1.640116e+12</td>\n",
       "      <td>ValidProposerBlockDownloaded</td>\n",
       "      <td></td>\n",
       "      <td></td>\n",
       "    </tr>\n",
       "    <tr>\n",
       "      <th>...</th>\n",
       "      <td>...</td>\n",
       "      <td>...</td>\n",
       "      <td>...</td>\n",
       "      <td>...</td>\n",
       "      <td>...</td>\n",
       "      <td>...</td>\n",
       "    </tr>\n",
       "    <tr>\n",
       "      <th>495</th>\n",
       "      <td>0xb9092e3db52a9b2b4419683ad7d90e05a4edbdc99e68...</td>\n",
       "      <td>119</td>\n",
       "      <td>1.640132e+12</td>\n",
       "      <td>ProposerBlockMined</td>\n",
       "      <td></td>\n",
       "      <td></td>\n",
       "    </tr>\n",
       "    <tr>\n",
       "      <th>497</th>\n",
       "      <td>0xc0f814d18a78cf9276fe76c88c4c9243219badcc5d1b...</td>\n",
       "      <td>119</td>\n",
       "      <td>1.640132e+12</td>\n",
       "      <td>ProposerBlockMined</td>\n",
       "      <td></td>\n",
       "      <td></td>\n",
       "    </tr>\n",
       "    <tr>\n",
       "      <th>499</th>\n",
       "      <td>0x877c0ba738ed0a3a6c6ffea43b90edc7c70f5e8afcdd...</td>\n",
       "      <td>120</td>\n",
       "      <td>1.640132e+12</td>\n",
       "      <td>ProposerBlockMined</td>\n",
       "      <td></td>\n",
       "      <td></td>\n",
       "    </tr>\n",
       "    <tr>\n",
       "      <th>498</th>\n",
       "      <td>0x75ce19e74fb28d1b149db1853d96adf518ddf5e51de4...</td>\n",
       "      <td>120</td>\n",
       "      <td>1.640132e+12</td>\n",
       "      <td>ProposerBlockMined</td>\n",
       "      <td></td>\n",
       "      <td></td>\n",
       "    </tr>\n",
       "    <tr>\n",
       "      <th>500</th>\n",
       "      <td>0xcf9891a0da07d32e50ea9e346e22f284381cfd01541b...</td>\n",
       "      <td>120</td>\n",
       "      <td>1.640132e+12</td>\n",
       "      <td>ProposerBlockMined</td>\n",
       "      <td></td>\n",
       "      <td></td>\n",
       "    </tr>\n",
       "  </tbody>\n",
       "</table>\n",
       "<p>501 rows × 6 columns</p>\n",
       "</div>"
      ],
      "text/plain": [
       "                                            Block Hash Block Number  \\\n",
       "0    0x07c5150c5627b40a856af7dc813521e230bcfa288caa...            1   \n",
       "1    0x8233279a7f10b99fb020b0ab1c4d43bbbeae131448ec...            2   \n",
       "2    0x99bd0255aa47e5bd63fd5a4cc644f4472098b6999f61...            2   \n",
       "7    0xf225d1ee065d71b8a88171275fbae0cd2158f9ebef21...            3   \n",
       "8    0x845de28c7fe0d4e7c4cb6db2be8b2efd476757993266...            3   \n",
       "..                                                 ...          ...   \n",
       "495  0xb9092e3db52a9b2b4419683ad7d90e05a4edbdc99e68...          119   \n",
       "497  0xc0f814d18a78cf9276fe76c88c4c9243219badcc5d1b...          119   \n",
       "499  0x877c0ba738ed0a3a6c6ffea43b90edc7c70f5e8afcdd...          120   \n",
       "498  0x75ce19e74fb28d1b149db1853d96adf518ddf5e51de4...          120   \n",
       "500  0xcf9891a0da07d32e50ea9e346e22f284381cfd01541b...          120   \n",
       "\n",
       "     Timestamp - Creation                         Event  \\\n",
       "0            1.640116e+12  ValidProposerBlockDownloaded   \n",
       "1            1.640116e+12            ProposerBlockMined   \n",
       "2            1.640116e+12  ValidProposerBlockDownloaded   \n",
       "7            1.640116e+12  ValidProposerBlockDownloaded   \n",
       "8            1.640116e+12  ValidProposerBlockDownloaded   \n",
       "..                    ...                           ...   \n",
       "495          1.640132e+12            ProposerBlockMined   \n",
       "497          1.640132e+12            ProposerBlockMined   \n",
       "499          1.640132e+12            ProposerBlockMined   \n",
       "498          1.640132e+12            ProposerBlockMined   \n",
       "500          1.640132e+12            ProposerBlockMined   \n",
       "\n",
       "    Timestamp - Confirmation Timestamp - Rollback  \n",
       "0            1640117060004.0                       \n",
       "1            1640117281898.0                       \n",
       "2                                                  \n",
       "7                                                  \n",
       "8                                                  \n",
       "..                       ...                  ...  \n",
       "495                                                \n",
       "497                                                \n",
       "499                                                \n",
       "498                                                \n",
       "500                                                \n",
       "\n",
       "[501 rows x 6 columns]"
      ]
     },
     "execution_count": 122,
     "metadata": {},
     "output_type": "execute_result"
    }
   ],
   "source": [
    "df = pd.DataFrame(columns=['Block Hash','Block Number','Timestamp - Creation','Event','Timestamp - Confirmation','Timestamp - Rollback'])\n",
    "\n",
    "for index,key in enumerate(hashToNumber.keys()):\n",
    "    df.loc[index] = [key,\n",
    "        int(hashToNumber.get(key,'')),\n",
    "        hashToCreationTimestamp.get(key,''),\n",
    "        hashToCreationEvent.get(key,''),\n",
    "        hashToConfirmationTimestamp.get(key,''),\n",
    "        hashToRollbackTimestamp.get(key,'')]\n",
    "\n",
    "df.sort_values('Block Number')"
   ]
  },
  {
   "cell_type": "code",
   "execution_count": 123,
   "metadata": {},
   "outputs": [],
   "source": [
    "df['Latency'] = df[df['Timestamp - Confirmation']!='']['Timestamp - Confirmation']-df[df['Timestamp - Confirmation']!='']['Timestamp - Creation']\n",
    "df['Mining Time'] = df['Timestamp - Creation'].diff()\n",
    "df['Confirmation Depth']=df['Latency']/df['Mining Time']"
   ]
  },
  {
   "cell_type": "code",
   "execution_count": 124,
   "metadata": {},
   "outputs": [
    {
     "name": "stdout",
     "output_type": "stream",
     "text": [
      "Mean Latency = 6285381.409090909\n",
      "Median Latency = 6927423.5\n",
      "Mean Mining Time = 32488.07\n",
      "Median Mining Time = 1677.0\n",
      "Mean Confirmation Depth = 2692.6743524257085\n",
      "Median Confirmation Depth = 64.65188053648889\n"
     ]
    }
   ],
   "source": [
    "print(\"Mean Latency =\",df['Latency'].dropna().mean())\n",
    "print(\"Median Latency =\",df['Latency'].dropna().median())\n",
    "print(\"Mean Mining Time =\",df['Mining Time'].dropna().mean())\n",
    "print(\"Median Mining Time =\",df['Mining Time'].dropna().median())\n",
    "print(\"Mean Confirmation Depth =\",df['Confirmation Depth'].dropna().mean())\n",
    "print(\"Median Confirmation Depth =\",df['Confirmation Depth'].dropna().median())"
   ]
  },
  {
   "cell_type": "code",
   "execution_count": 125,
   "metadata": {},
   "outputs": [
    {
     "name": "stdout",
     "output_type": "stream",
     "text": [
      "Trial Mean Confirmation Depth = 302.27272727272725\n",
      "Trial Median Confirmation Depth = 327.5\n"
     ]
    }
   ],
   "source": [
    "creationTimestamps = df['Timestamp - Creation']\n",
    "confirmationTimestamps = df[df['Timestamp - Confirmation']!='']['Timestamp - Confirmation']\n",
    "insertionPoints = pd.DataFrame(creationTimestamps.searchsorted(value=confirmationTimestamps),columns=['Insertion Points'])\n",
    "cdArray = insertionPoints['Insertion Points'] - insertionPoints['Insertion Points'].index\n",
    "print(\"Trial Mean Confirmation Depth =\",cdArray.mean())\n",
    "print(\"Trial Median Confirmation Depth =\",cdArray.median())"
   ]
  },
  {
   "cell_type": "code",
   "execution_count": 126,
   "metadata": {},
   "outputs": [],
   "source": [
    "proposerBlockNumbersArray = []\n",
    "voterChainBestTopBlocksArray = []\n",
    "with open(user_input, 'r') as f:\n",
    "    for line in f:\n",
    "        if \"VOTERCHAINHEALTH:\" not in line:\n",
    "            continue\n",
    "        benchmarkSubstrings = line[line.find(\"VOTERCHAINHEALTH\"):-1].split(':')\n",
    "        proposerBlockNumber = int(benchmarkSubstrings[-2][:(benchmarkSubstrings[-2].find(\"(\")-1)])\n",
    "        voterChainBestTopBlock = int(benchmarkSubstrings[4])\n",
    "        proposerBlockNumbersArray.append(proposerBlockNumber)\n",
    "        voterChainBestTopBlocksArray.append(voterChainBestTopBlock)\n",
    "\n",
    "\n",
    "f.close()"
   ]
  },
  {
   "cell_type": "code",
   "execution_count": 127,
   "metadata": {},
   "outputs": [
    {
     "data": {
      "image/png": "[encoded data removed]",
      "text/plain": [
       "<Figure size 432x288 with 1 Axes>"
      ]
     },
     "metadata": {
      "needs_background": "light"
     },
     "output_type": "display_data"
    }
   ],
   "source": [
    "plt.scatter(proposerBlockNumbersArray, voterChainBestTopBlocksArray, c =\"orange\")\n",
    " \n",
    "# To show the plot\n",
    "plt.xlabel(\"Proposer Block Number\")\n",
    "plt.ylabel(\"Voter Chain Best Top Block\")\n",
    "plt.show()"
   ]
  },
  {
   "cell_type": "code",
   "execution_count": 128,
   "metadata": {},
   "outputs": [],
   "source": [
    "proposerBlocksCoordinates = [[],[]]\n",
    "\n",
    "with open(user_input, 'r') as f:\n",
    "    for line in f:\n",
    "        if \"BENCHMARKING:\" not in line:\n",
    "            continue\n",
    "        benchmarkSubstrings = line[line.find(\"BENCHMARKING\"):-1].split(':')\n",
    "        dateTimeString = line.split('[')[0][:-1]\n",
    "        timestamp = getTimestamp(dateTimeString)\n",
    "        event = benchmarkSubstrings[1]\n",
    "        blockNumber = int(benchmarkSubstrings[3])\n",
    "        if event == ProposerBlockMined or event == ValidProposerBlockDownloaded:\n",
    "            proposerBlocksCoordinates[0].append(blockNumber)\n",
    "            proposerBlocksCoordinates[1].append((timestamp-firstTimeStamp)/1000)\n",
    "f.close()\n",
    "\n",
    "\n",
    "voterChainsCoordinates = []\n",
    "for i in range(0,100):\n",
    "    voterChainsCoordinates.append([[],[]])\n",
    "\n",
    "with open(user_input, 'r') as f:\n",
    "    for line in f:\n",
    "        if \"VOTERCHAINHEALTH:\" not in line:\n",
    "            continue\n",
    "        benchmarkSubstrings = line[line.find(\"VOTERCHAINHEALTH\"):-1].split(':')\n",
    "        dateTimeString = line.split('[')[0][:-1]\n",
    "        timestamp = getTimestamp(dateTimeString)\n",
    "        voterChainBestTopBlock = int(benchmarkSubstrings[4])\n",
    "        voterChainIdx = int(benchmarkSubstrings[2])\n",
    "        voterChainsCoordinates[voterChainIdx][0].append(voterChainBestTopBlock)\n",
    "        voterChainsCoordinates[voterChainIdx][1].append((timestamp-firstTimeStamp)/1000)\n",
    "f.close()"
   ]
  },
  {
   "cell_type": "code",
   "execution_count": 129,
   "metadata": {},
   "outputs": [
    {
     "data": {
      "image/png": "[encoded data removed]",
      "text/plain": [
       "<Figure size 432x288 with 1 Axes>"
      ]
     },
     "metadata": {
      "needs_background": "light"
     },
     "output_type": "display_data"
    }
   ],
   "source": [
    "voterChainToSee = 42\n",
    "\n",
    "plt.plot(proposerBlocksCoordinates[1], proposerBlocksCoordinates[0], c =\"forestgreen\", label=\"Proposer Chain\")\n",
    "plt.plot(voterChainsCoordinates[voterChainToSee][1], voterChainsCoordinates[voterChainToSee][0], c=\"red\", label=\"Voter Chain\") \n",
    "plt.legend(loc=\"upper left\")\n",
    "\n",
    " \n",
    "# To show the plot\n",
    "plt.xlabel(\"Timestamp (seconds)\")\n",
    "plt.ylabel(\"Block Number\")\n",
    "plt.show()"
   ]
  }
 ],
 "metadata": {
  "interpreter": {
   "hash": "cf848db52ef32cc176ed1af497719705d0e2fe62659246413983ac6a5ce0226f"
  },
  "kernelspec": {
   "display_name": "Python 3.9.4 64-bit ('3.9.4': pyenv)",
   "language": "python",
   "name": "python3"
  },
  "language_info": {
   "codemirror_mode": {
    "name": "ipython",
    "version": 3
   },
   "file_extension": ".py",
   "mimetype": "text/x-python",
   "name": "python",
   "nbconvert_exporter": "python",
   "pygments_lexer": "ipython3",
   "version": "3.9.4"
  },
  "orig_nbformat": 4
 },
 "nbformat": 4,
 "nbformat_minor": 2
}
